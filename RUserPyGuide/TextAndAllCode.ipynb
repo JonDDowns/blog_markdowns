{
 "cells": [
  {
   "attachments": {},
   "cell_type": "markdown",
   "metadata": {},
   "source": [
    "## An R User's Guide to Python, Part I\n",
    "\n",
    "In this series, I will be demonstrating a few common tasks in both R and Python. The goal is to demonstrate just how similar these languages can be while showing some of the basics.\n",
    "\n",
    "### Introduction\n",
    "\n",
    "Coding has come a long way in my field in a short amount of time. As recently as 5 years ago, most analysis was done in SAS. R was for the most advanced of analysts. Later, R began growing rapidly as the prospect of job automation took hold. Now, more Python users are coming into the fold, and the great \"R vs. Python\" debate has begun. Similar [click-bait hot takes](https://www.linkedin.com/posts/alex-freberg_python-is-better-than-r-activity-6752637240578600960-a36V/?trk=public_profile_like_view&originalSubdomain=ke) abound on the web. Which is to be expected, I suppose. Data scientists have a reputation for having opinions (and the close relatives '...opinions' and 'opinions...').\n",
    "\n",
    "![](https://cs410032000ad584321.blob.core.windows.net/mydata/dsPrimaDonna.png)\n",
    "\n",
    "#### A summary of the R vs. Python Debate\n",
    "\n",
    "There is no shortage of posts about this topic, so I will keep it short. The Python folks argue that [Python is the most popular coding language](https://pypl.github.io/PYPL.html). The sheer size of the community means that it will always be able to do more. R is fussy and esoteric, they say.\n",
    "\n",
    "The R side points out that R packages, especially those used in modeling, are often maintained by the top experts in their respective fields ([survival analysis](https://cran.r-project.org/web/packages/survival/index.html), [Generalized Additive Models](https://www.taylorfrancis.com/books/mono/10.1201/9781315370279/generalized-additive-models-simon-wood), and [Epidemiological Network models](https://cran.r-project.org/web/packages/EpiModel/index.html), to name a few). Additionally, the [Journal of Statistical Software](https://www.jstatsoft.org/index) is an academic publication that introduces and explains software implementations of new statistical methods, and R is the most common choice.\n",
    "\n",
    "#### Why the Debate Misses the Point\n",
    "\n",
    "The R vs. Python debate is largely counterproductive because it places the focus on the language instead of the analyst. The biggest risk to your data science career is not \"choosing the wrong language\", it is stubbornly choosing to work with only one language. Some of the oldest programming languages, COBOL and FORTRAN, are [highly desired in the financial sector](https://www.nytimes.com/2022/07/06/technology/cobol-jobs.html) precisely because they perform critical roles in the financial code base whilst being known by very few people. Speaking of FORTRAN, it is still used in both [R](https://www.r-bloggers.com/2014/04/fortran-and-r-speed-things-up/) and [Python](https://fortranwiki.org/fortran/show/Python). And let's not forget about [Julia](https://julialang.org/), a relatively new language that runs blazingly fast compared to both R and Python. Stick to one language at your own peril.\n",
    "\n",
    "I am reminded of a story from my own life. Early in the COVID-19 pandemic, my wife and I got really into cycling. After consistent improvement early on, I hit a plateau and I wanted to upgrade my mountain bike for a $3,000 road bike. The road bike was perfectly engineered for the task: 11 pounds lighter with thinner tires to reduce friction. But, I soon realized something: if I rode my bike more and stopped drinking beers after the weekend rides, I would lose that same 11 pounds and then some. The bike would have provided a mild, one-time boost, at best.\n",
    "\n",
    "### Common Data Science Tasks in R and Python\n",
    "\n",
    "I will let you in on a little secret: R and Python look pretty darn similar for many data science tasks. To show you just how similar they can be, this blog post will walk through how both R and Python: \n",
    "\n",
    "1. Install and load special modules and packages developed by the community\n",
    "2. Work with the filesystem and system commands\n",
    "3. Connect to SQL databases and extract data\n",
    "4. Basic data exploration: understand what kinds of data you have and how many records there are\n",
    "5. Subsetting data: keep only what you need and get rid of everything else\n",
    "\n",
    "Future posts will cover other topics, such as data aggregation and/or data visualization. For some of the database tasks, I will connect to a SQL server instance I stood up on a personal cloud account. If you would like to stand up your own version, Microsoft has a tutorial [here](https://learn.microsoft.com/en-us/sql/samples/adventureworks-install-configure?view=sql-server-ver16&tabs=ssms#deploy-to-azure-sql-database).\n",
    "\n",
    "#### Modules and Packages: Install, Load, Use\n",
    "\n",
    "Really, there are three notable differences here:\n",
    "\n",
    "1. Python calls them \"Modules\", and R calls them \"Packages\"\n",
    "2. R packages are installed in an R session while Python modules are installed from the shell\n",
    "3. As long as an R package has been installed, it can be called using the pkg::function() syntax. Python modules must always be loaded before use.\n",
    "\n",
    "##### Python\n",
    "\n",
    "In Python, pip is the base package installer, but other options (like [Anaconda](https://www.anaconda.com/)) exist. In either case, the syntax in similar:"
   ]
  },
  {
   "cell_type": "code",
   "execution_count": 1,
   "metadata": {
    "vscode": {
     "languageId": "r"
    }
   },
   "outputs": [
    {
     "name": "stdout",
     "output_type": "stream",
     "text": [
      "Defaulting to user installation because normal site-packages is not writeable\n",
      "Requirement already satisfied: numpy in /home/jondowns/.local/lib/python3.10/site-packages (1.23.5)\n",
      "Note: you may need to restart the kernel to use updated packages.\n"
     ]
    }
   ],
   "source": [
    "pip install numpy"
   ]
  },
  {
   "cell_type": "code",
   "execution_count": 2,
   "metadata": {
    "vscode": {
     "languageId": "r"
    }
   },
   "outputs": [],
   "source": [
    "# Modules need to be explicitly loaded\n",
    "import sqlalchemy as sa\n",
    "import pandas as pd # Note the \"pd\" ref here\n",
    "import os\n",
    "import re\n",
    "import glob\n",
    "\n",
    "# You can also import specific subsets of a package\n",
    "from urllib import request"
   ]
  },
  {
   "attachments": {},
   "cell_type": "markdown",
   "metadata": {},
   "source": [
    "Python modules tend to have lots of sub-modules. For example, urllib has many modules, but in data science the \"request\" module is the most commonly used. In such cases, you may want to only import the specific part of the module that you need for the task at hand. "
   ]
  },
  {
   "cell_type": "code",
   "execution_count": 3,
   "metadata": {
    "vscode": {
     "languageId": "r"
    }
   },
   "outputs": [
    {
     "name": "stdout",
     "output_type": "stream",
     "text": [
      "Well, that didn't work...\n",
      "\n",
      "\n",
      "This works, though!\n"
     ]
    },
    {
     "data": {
      "text/html": [
       "<div>\n",
       "<style scoped>\n",
       "    .dataframe tbody tr th:only-of-type {\n",
       "        vertical-align: middle;\n",
       "    }\n",
       "\n",
       "    .dataframe tbody tr th {\n",
       "        vertical-align: top;\n",
       "    }\n",
       "\n",
       "    .dataframe thead th {\n",
       "        text-align: right;\n",
       "    }\n",
       "</style>\n",
       "<table border=\"1\" class=\"dataframe\">\n",
       "  <thead>\n",
       "    <tr style=\"text-align: right;\">\n",
       "      <th></th>\n",
       "      <th>mycol</th>\n",
       "    </tr>\n",
       "  </thead>\n",
       "  <tbody>\n",
       "    <tr>\n",
       "      <th>0</th>\n",
       "      <td>0</td>\n",
       "    </tr>\n",
       "    <tr>\n",
       "      <th>1</th>\n",
       "      <td>1</td>\n",
       "    </tr>\n",
       "    <tr>\n",
       "      <th>2</th>\n",
       "      <td>2</td>\n",
       "    </tr>\n",
       "    <tr>\n",
       "      <th>3</th>\n",
       "      <td>3</td>\n",
       "    </tr>\n",
       "    <tr>\n",
       "      <th>4</th>\n",
       "      <td>4</td>\n",
       "    </tr>\n",
       "    <tr>\n",
       "      <th>5</th>\n",
       "      <td>5</td>\n",
       "    </tr>\n",
       "    <tr>\n",
       "      <th>6</th>\n",
       "      <td>6</td>\n",
       "    </tr>\n",
       "    <tr>\n",
       "      <th>7</th>\n",
       "      <td>7</td>\n",
       "    </tr>\n",
       "    <tr>\n",
       "      <th>8</th>\n",
       "      <td>8</td>\n",
       "    </tr>\n",
       "  </tbody>\n",
       "</table>\n",
       "</div>"
      ],
      "text/plain": [
       "   mycol\n",
       "0      0\n",
       "1      1\n",
       "2      2\n",
       "3      3\n",
       "4      4\n",
       "5      5\n",
       "6      6\n",
       "7      7\n",
       "8      8"
      ]
     },
     "execution_count": 3,
     "metadata": {},
     "output_type": "execute_result"
    }
   ],
   "source": [
    "# Not using \"pd\" for pandas causes an err\n",
    "try:\n",
    "    DataFrame({\"mycol\": range(0,9)}).head()\n",
    "except:\n",
    "    print(\"Well, that didn't work...\\n\\n\")\n",
    "\n",
    "\n",
    "print(\"This works, though!\")\n",
    "pd.DataFrame({\"mycol\": range(0,9)})"
   ]
  },
  {
   "attachments": {},
   "cell_type": "markdown",
   "metadata": {},
   "source": [
    "#### Explore the filesystem and access system commands\n",
    "\n",
    "An underrated skill in data science is folder searching and navigating the filesystem. For example, I frequently have lots of CSV files with identical formats for multiple days listed in the same folder. Luckily, both R and Python have simple tools for this.\n",
    "\n",
    "##### Python"
   ]
  },
  {
   "cell_type": "code",
   "execution_count": 4,
   "metadata": {
    "vscode": {
     "languageId": "r"
    }
   },
   "outputs": [
    {
     "name": "stdout",
     "output_type": "stream",
     "text": [
      "/home/jondowns/Documents/blog_markdowns/RUserPyGuide\n",
      "['basics.py', 'basics.r', '.ipynb_checkpoints', 'TextAndPy.ipynb', 'R.ipynb', 'dsPrimaDonna.png']\n",
      "['.git', '.gitignore', 'blog_markdowns.Rproj', 'gamesToWin', 'getPRISMData', 'isPalindrome', 'makeNbaDb', 'RUserPyGuide', 'addToWebsite.sql']\n",
      "\n",
      "Use glob module to look for files that match a certain pattern\n"
     ]
    },
    {
     "data": {
      "text/plain": [
       "['./TextAndPy.ipynb', './R.ipynb']"
      ]
     },
     "execution_count": 4,
     "metadata": {},
     "output_type": "execute_result"
    }
   ],
   "source": [
    "print(os.getcwd()) # Prints working directory path\n",
    "print(os.listdir(\".\")) # List files in working directory\n",
    "print(os.listdir(\"..\")) # List files in parent of the working directory\n",
    "\n",
    "print(\"\\nUse glob module to look for files that match a certain pattern\")\n",
    "glob.glob(\"./*.ipynb\") # "
   ]
  },
  {
   "attachments": {},
   "cell_type": "markdown",
   "metadata": {},
   "source": [
    "You may also use system commands (Windows, Linux, Mac, etc.). I often use environment variables to store, say, a folder I commonly access for my job:"
   ]
  },
  {
   "cell_type": "code",
   "execution_count": 5,
   "metadata": {
    "vscode": {
     "languageId": "r"
    }
   },
   "outputs": [
    {
     "data": {
      "text/plain": [
       "'/home/jondowns'"
      ]
     },
     "execution_count": 5,
     "metadata": {},
     "output_type": "execute_result"
    }
   ],
   "source": [
    "os.getenv(\"HOME\")"
   ]
  },
  {
   "attachments": {},
   "cell_type": "markdown",
   "metadata": {},
   "source": [
    "#### Work with Databases\n",
    "\n",
    "Assuming Pandas is being used for your Python work, database connections are eerily similar between the two languages. An important note: below, I connect to the database by writing most of the connection string directly into the code. You should not do that! It exposes your server address, user name, and password to others who are reading your code. I've stripped out the most sensitive parts. \n",
    "\n",
    "Environment variables, forcing the user to enter credentials, and other practices are much safer ways to handle connection strings.\n",
    "\n",
    "##### Python"
   ]
  },
  {
   "cell_type": "code",
   "execution_count": 6,
   "metadata": {
    "vscode": {
     "languageId": "r"
    }
   },
   "outputs": [
    {
     "data": {
      "text/html": [
       "<div>\n",
       "<style scoped>\n",
       "    .dataframe tbody tr th:only-of-type {\n",
       "        vertical-align: middle;\n",
       "    }\n",
       "\n",
       "    .dataframe tbody tr th {\n",
       "        vertical-align: top;\n",
       "    }\n",
       "\n",
       "    .dataframe thead th {\n",
       "        text-align: right;\n",
       "    }\n",
       "</style>\n",
       "<table border=\"1\" class=\"dataframe\">\n",
       "  <thead>\n",
       "    <tr style=\"text-align: right;\">\n",
       "      <th></th>\n",
       "      <th>TABLE_CATALOG</th>\n",
       "      <th>TABLE_SCHEMA</th>\n",
       "      <th>TABLE_NAME</th>\n",
       "      <th>COLUMN_NAME</th>\n",
       "      <th>ORDINAL_POSITION</th>\n",
       "      <th>COLUMN_DEFAULT</th>\n",
       "      <th>IS_NULLABLE</th>\n",
       "      <th>DATA_TYPE</th>\n",
       "      <th>CHARACTER_MAXIMUM_LENGTH</th>\n",
       "      <th>CHARACTER_OCTET_LENGTH</th>\n",
       "      <th>...</th>\n",
       "      <th>DATETIME_PRECISION</th>\n",
       "      <th>CHARACTER_SET_CATALOG</th>\n",
       "      <th>CHARACTER_SET_SCHEMA</th>\n",
       "      <th>CHARACTER_SET_NAME</th>\n",
       "      <th>COLLATION_CATALOG</th>\n",
       "      <th>COLLATION_SCHEMA</th>\n",
       "      <th>COLLATION_NAME</th>\n",
       "      <th>DOMAIN_CATALOG</th>\n",
       "      <th>DOMAIN_SCHEMA</th>\n",
       "      <th>DOMAIN_NAME</th>\n",
       "    </tr>\n",
       "  </thead>\n",
       "  <tbody>\n",
       "    <tr>\n",
       "      <th>0</th>\n",
       "      <td>adventureworks</td>\n",
       "      <td>SalesLT</td>\n",
       "      <td>Customer</td>\n",
       "      <td>CustomerID</td>\n",
       "      <td>1</td>\n",
       "      <td>None</td>\n",
       "      <td>NO</td>\n",
       "      <td>int</td>\n",
       "      <td>NaN</td>\n",
       "      <td>NaN</td>\n",
       "      <td>...</td>\n",
       "      <td>None</td>\n",
       "      <td>None</td>\n",
       "      <td>None</td>\n",
       "      <td>None</td>\n",
       "      <td>None</td>\n",
       "      <td>None</td>\n",
       "      <td>None</td>\n",
       "      <td>None</td>\n",
       "      <td>None</td>\n",
       "      <td>None</td>\n",
       "    </tr>\n",
       "    <tr>\n",
       "      <th>1</th>\n",
       "      <td>adventureworks</td>\n",
       "      <td>SalesLT</td>\n",
       "      <td>Customer</td>\n",
       "      <td>NameStyle</td>\n",
       "      <td>2</td>\n",
       "      <td>None</td>\n",
       "      <td>NO</td>\n",
       "      <td>bit</td>\n",
       "      <td>NaN</td>\n",
       "      <td>NaN</td>\n",
       "      <td>...</td>\n",
       "      <td>None</td>\n",
       "      <td>None</td>\n",
       "      <td>None</td>\n",
       "      <td>None</td>\n",
       "      <td>None</td>\n",
       "      <td>None</td>\n",
       "      <td>None</td>\n",
       "      <td>adventureworks</td>\n",
       "      <td>None</td>\n",
       "      <td>None</td>\n",
       "    </tr>\n",
       "    <tr>\n",
       "      <th>2</th>\n",
       "      <td>adventureworks</td>\n",
       "      <td>SalesLT</td>\n",
       "      <td>Customer</td>\n",
       "      <td>Title</td>\n",
       "      <td>3</td>\n",
       "      <td>None</td>\n",
       "      <td>YES</td>\n",
       "      <td>nvarchar</td>\n",
       "      <td>8.0</td>\n",
       "      <td>16.0</td>\n",
       "      <td>...</td>\n",
       "      <td>None</td>\n",
       "      <td>None</td>\n",
       "      <td>None</td>\n",
       "      <td>UNICODE</td>\n",
       "      <td>None</td>\n",
       "      <td>None</td>\n",
       "      <td>SQL_Latin1_General_CP1_CI_AS</td>\n",
       "      <td>None</td>\n",
       "      <td>None</td>\n",
       "      <td>None</td>\n",
       "    </tr>\n",
       "    <tr>\n",
       "      <th>3</th>\n",
       "      <td>adventureworks</td>\n",
       "      <td>SalesLT</td>\n",
       "      <td>Customer</td>\n",
       "      <td>FirstName</td>\n",
       "      <td>4</td>\n",
       "      <td>None</td>\n",
       "      <td>NO</td>\n",
       "      <td>nvarchar</td>\n",
       "      <td>50.0</td>\n",
       "      <td>100.0</td>\n",
       "      <td>...</td>\n",
       "      <td>None</td>\n",
       "      <td>None</td>\n",
       "      <td>None</td>\n",
       "      <td>UNICODE</td>\n",
       "      <td>None</td>\n",
       "      <td>None</td>\n",
       "      <td>SQL_Latin1_General_CP1_CI_AS</td>\n",
       "      <td>adventureworks</td>\n",
       "      <td>None</td>\n",
       "      <td>None</td>\n",
       "    </tr>\n",
       "    <tr>\n",
       "      <th>4</th>\n",
       "      <td>adventureworks</td>\n",
       "      <td>SalesLT</td>\n",
       "      <td>Customer</td>\n",
       "      <td>MiddleName</td>\n",
       "      <td>5</td>\n",
       "      <td>None</td>\n",
       "      <td>YES</td>\n",
       "      <td>nvarchar</td>\n",
       "      <td>50.0</td>\n",
       "      <td>100.0</td>\n",
       "      <td>...</td>\n",
       "      <td>None</td>\n",
       "      <td>None</td>\n",
       "      <td>None</td>\n",
       "      <td>UNICODE</td>\n",
       "      <td>None</td>\n",
       "      <td>None</td>\n",
       "      <td>SQL_Latin1_General_CP1_CI_AS</td>\n",
       "      <td>adventureworks</td>\n",
       "      <td>None</td>\n",
       "      <td>None</td>\n",
       "    </tr>\n",
       "  </tbody>\n",
       "</table>\n",
       "<p>5 rows × 23 columns</p>\n",
       "</div>"
      ],
      "text/plain": [
       "    TABLE_CATALOG TABLE_SCHEMA TABLE_NAME COLUMN_NAME  ORDINAL_POSITION  \\\n",
       "0  adventureworks      SalesLT   Customer  CustomerID                 1   \n",
       "1  adventureworks      SalesLT   Customer   NameStyle                 2   \n",
       "2  adventureworks      SalesLT   Customer       Title                 3   \n",
       "3  adventureworks      SalesLT   Customer   FirstName                 4   \n",
       "4  adventureworks      SalesLT   Customer  MiddleName                 5   \n",
       "\n",
       "  COLUMN_DEFAULT IS_NULLABLE DATA_TYPE  CHARACTER_MAXIMUM_LENGTH  \\\n",
       "0           None          NO       int                       NaN   \n",
       "1           None          NO       bit                       NaN   \n",
       "2           None         YES  nvarchar                       8.0   \n",
       "3           None          NO  nvarchar                      50.0   \n",
       "4           None         YES  nvarchar                      50.0   \n",
       "\n",
       "   CHARACTER_OCTET_LENGTH  ...  DATETIME_PRECISION  CHARACTER_SET_CATALOG  \\\n",
       "0                     NaN  ...                None                   None   \n",
       "1                     NaN  ...                None                   None   \n",
       "2                    16.0  ...                None                   None   \n",
       "3                   100.0  ...                None                   None   \n",
       "4                   100.0  ...                None                   None   \n",
       "\n",
       "   CHARACTER_SET_SCHEMA CHARACTER_SET_NAME COLLATION_CATALOG COLLATION_SCHEMA  \\\n",
       "0                  None               None              None             None   \n",
       "1                  None               None              None             None   \n",
       "2                  None            UNICODE              None             None   \n",
       "3                  None            UNICODE              None             None   \n",
       "4                  None            UNICODE              None             None   \n",
       "\n",
       "                 COLLATION_NAME  DOMAIN_CATALOG DOMAIN_SCHEMA DOMAIN_NAME  \n",
       "0                          None            None          None        None  \n",
       "1                          None  adventureworks          None        None  \n",
       "2  SQL_Latin1_General_CP1_CI_AS            None          None        None  \n",
       "3  SQL_Latin1_General_CP1_CI_AS  adventureworks          None        None  \n",
       "4  SQL_Latin1_General_CP1_CI_AS  adventureworks          None        None  \n",
       "\n",
       "[5 rows x 23 columns]"
      ]
     },
     "execution_count": 6,
     "metadata": {},
     "output_type": "execute_result"
    }
   ],
   "source": [
    "# Create connection string, connect to server\n",
    "connection_string = \"mssql+pyodbc://readAdvWorks:Plznohackme!123\"\\\n",
    "    \"@jondowns.database.windows.net,1433/adventureworks?\"\\\n",
    "        \"driver=ODBC+Driver+18+for+SQL+Server\"\n",
    "cnxn = sa.create_engine(connection_string)\n",
    "\n",
    "# Use the SQL information schema to check out what data are available\n",
    "pd.read_sql(    \n",
    "    \"\"\"\n",
    "    SELECT TOP 5 *\n",
    "    FROM INFORMATION_SCHEMA.COLUMNS\n",
    "    WHERE TABLE_NAME = 'Customer' \"\"\", cnxn)"
   ]
  },
  {
   "cell_type": "code",
   "execution_count": 7,
   "metadata": {
    "vscode": {
     "languageId": "r"
    }
   },
   "outputs": [],
   "source": [
    "# Use our connection to query two tables from the database\n",
    "cust = pd.read_sql(\"SELECT * FROM SalesLt.Customer\", cnxn)\n",
    "custAdd = pd.read_sql(\n",
    "    \"\"\"\n",
    "    SELECT a.CustomerID\n",
    "    , a.AddressType\n",
    "    , b.AddressLine1\n",
    "    , b.AddressLine2\n",
    "    , b.City\n",
    "    , b.StateProvince\n",
    "    , b.CountryRegion\n",
    "    , b.PostalCode\n",
    "    , b.ModifiedDate\n",
    "    FROM SalesLt.CustomerAddress AS a\n",
    "    LEFT JOIN SalesLT.Address AS b ON a.AddressID = b.AddressID\n",
    "    \"\"\", cnxn)\n"
   ]
  },
  {
   "attachments": {},
   "cell_type": "markdown",
   "metadata": {},
   "source": [
    "#### Initial Data Exploration\n",
    "\n",
    "Now that data have been pulled in, we may want to explore it some. Check the number of rows, number of columns, see whether a column is a string or number, etc. Let's go through some examples.\n",
    "\n",
    "##### Python\n",
    "\n",
    "DataFrames are two-dimensional objects: they have rows (indexes) and columns. Think spreadsheet. Below, you'll see printout of the columns in our dataframe and the list of indices for each row. The row indices are expressed as a range of values (range function). \n",
    "\n",
    "dtype can be used to check the type of a column. Note that anything that has strings/characters in them will be given the \"object\" type.\n"
   ]
  },
  {
   "cell_type": "code",
   "execution_count": 8,
   "metadata": {
    "vscode": {
     "languageId": "r"
    }
   },
   "outputs": [
    {
     "name": "stdout",
     "output_type": "stream",
     "text": [
      "Number of rows and columns\n",
      "(847, 15)\n",
      "Columns: \n",
      "Index(['CustomerID', 'NameStyle', 'Title', 'FirstName', 'MiddleName',\n",
      "       'LastName', 'Suffix', 'CompanyName', 'SalesPerson', 'EmailAddress',\n",
      "       'Phone', 'PasswordHash', 'PasswordSalt', 'rowguid', 'ModifiedDate'],\n",
      "      dtype='object')\n",
      "Indices:\n",
      "RangeIndex(start=0, stop=847, step=1)\n",
      "\n",
      "Data type of Customer ID:\n",
      "int64\n",
      "\n",
      "Data type of Last Name:\n",
      "object\n"
     ]
    }
   ],
   "source": [
    "# Print out row and column names\n",
    "print(\"Number of rows and columns\")\n",
    "print(cust.shape)\n",
    "\n",
    "print(\"Columns: \")\n",
    "print(cust.columns)\n",
    "\n",
    "print(\"Indices:\")\n",
    "print(cust.index)\n",
    "\n",
    "print(\"\\nData type of Customer ID:\")\n",
    "print(cust[\"CustomerID\"].dtype)\n",
    "\n",
    "print(\"\\nData type of Last Name:\")\n",
    "print(cust[\"LastName\"].dtype)"
   ]
  },
  {
   "cell_type": "markdown",
   "metadata": {},
   "source": []
  },
  {
   "attachments": {},
   "cell_type": "markdown",
   "metadata": {},
   "source": [
    "And, a frequency table can for a column can be produced using value_counts(). This is often useful for cateogrical variables (say, an 'Age Group' category with 5 levels)."
   ]
  },
  {
   "cell_type": "code",
   "execution_count": 9,
   "metadata": {
    "vscode": {
     "languageId": "r"
    }
   },
   "outputs": [
    {
     "data": {
      "text/plain": [
       "adventure-works\\shu0        151\n",
       "adventure-works\\jillian0    148\n",
       "adventure-works\\josé1       142\n",
       "adventure-works\\garrett1     78\n",
       "adventure-works\\jae0         78\n",
       "adventure-works\\pamela0      74\n",
       "adventure-works\\david8       73\n",
       "adventure-works\\linda3       71\n",
       "adventure-works\\michael9     32\n",
       "Name: SalesPerson, dtype: int64"
      ]
     },
     "execution_count": 9,
     "metadata": {},
     "output_type": "execute_result"
    }
   ],
   "source": [
    "cust[\"SalesPerson\"].value_counts()"
   ]
  },
  {
   "attachments": {},
   "cell_type": "markdown",
   "metadata": {},
   "source": [
    "#### Subsetting Data\n",
    "\n",
    "Okay, so you've explored the data a bit and now you are ready to start cutting it down. And I encourage you to cut it down! A lean, mean script that only pulls the data it needs is both more understandable and will run faster. \n",
    "\n",
    "Note: ideally, most subsetting is done in the SQL query, not in the code. If the data are not needed, they shouldn't be pulled in the first place! We are being inefficient for the sake of demonstration.\n",
    "\n",
    "##### Python\n",
    "\n",
    "When subsetting columns, it is often useful to store the: order/column names in its own dictionary. Then, that dictionary can be referred to down the line as needed."
   ]
  },
  {
   "cell_type": "code",
   "execution_count": 10,
   "metadata": {
    "vscode": {
     "languageId": "r"
    }
   },
   "outputs": [],
   "source": [
    "# Pick the columns you want to keep/reorder columns\n",
    "keepCols = [\"CustomerID\", \"FirstName\", \"LastName\",\n",
    "    \"CompanyName\", \"SalesPerson\", \"Phone\",\n",
    "    \"EmailAddress\"]\n",
    "cust2 = cust[keepCols]"
   ]
  },
  {
   "attachments": {},
   "cell_type": "markdown",
   "metadata": {},
   "source": [
    "Subsetting by row is also incredibly useful. There are two main options:\n",
    "\n",
    "1. Subset by the actual row index (0-847 in our case). The iloc command is used.\n",
    "2. Subset by logic: write a statement that evaluates to True/False, and only the rows pass are kept."
   ]
  },
  {
   "cell_type": "code",
   "execution_count": 11,
   "metadata": {
    "vscode": {
     "languageId": "r"
    }
   },
   "outputs": [
    {
     "name": "stdout",
     "output_type": "stream",
     "text": [
      "Subset to first row only\n",
      "CustomerID                                 1\n",
      "FirstName                            Orlando\n",
      "LastName                                 Gee\n",
      "CompanyName                     A Bike Store\n",
      "SalesPerson          adventure-works\\pamela0\n",
      "Phone                           245-555-0173\n",
      "EmailAddress    orlando0@adventure-works.com\n",
      "Name: 0, dtype: object\n",
      "\n",
      "Get first 5 rows matching condition\n"
     ]
    },
    {
     "data": {
      "text/html": [
       "<div>\n",
       "<style scoped>\n",
       "    .dataframe tbody tr th:only-of-type {\n",
       "        vertical-align: middle;\n",
       "    }\n",
       "\n",
       "    .dataframe tbody tr th {\n",
       "        vertical-align: top;\n",
       "    }\n",
       "\n",
       "    .dataframe thead th {\n",
       "        text-align: right;\n",
       "    }\n",
       "</style>\n",
       "<table border=\"1\" class=\"dataframe\">\n",
       "  <thead>\n",
       "    <tr style=\"text-align: right;\">\n",
       "      <th></th>\n",
       "      <th>CustomerID</th>\n",
       "      <th>FirstName</th>\n",
       "      <th>LastName</th>\n",
       "      <th>CompanyName</th>\n",
       "      <th>SalesPerson</th>\n",
       "      <th>Phone</th>\n",
       "      <th>EmailAddress</th>\n",
       "    </tr>\n",
       "  </thead>\n",
       "  <tbody>\n",
       "    <tr>\n",
       "      <th>43</th>\n",
       "      <td>66</td>\n",
       "      <td>Alexander</td>\n",
       "      <td>Deborde</td>\n",
       "      <td>Neighborhood Store</td>\n",
       "      <td>adventure-works\\garrett1</td>\n",
       "      <td>394-555-0176</td>\n",
       "      <td>alexander1@adventure-works.com</td>\n",
       "    </tr>\n",
       "    <tr>\n",
       "      <th>47</th>\n",
       "      <td>75</td>\n",
       "      <td>Aidan</td>\n",
       "      <td>Delaney</td>\n",
       "      <td>Paint Supply</td>\n",
       "      <td>adventure-works\\jillian0</td>\n",
       "      <td>358-555-0188</td>\n",
       "      <td>aidan0@adventure-works.com</td>\n",
       "    </tr>\n",
       "    <tr>\n",
       "      <th>50</th>\n",
       "      <td>78</td>\n",
       "      <td>Stefan</td>\n",
       "      <td>Delmarco</td>\n",
       "      <td>Preferred Bikes</td>\n",
       "      <td>adventure-works\\linda3</td>\n",
       "      <td>819-555-0186</td>\n",
       "      <td>stefan0@adventure-works.com</td>\n",
       "    </tr>\n",
       "    <tr>\n",
       "      <th>54</th>\n",
       "      <td>84</td>\n",
       "      <td>Della</td>\n",
       "      <td>Demott Jr</td>\n",
       "      <td>Rewarding Activities Company</td>\n",
       "      <td>adventure-works\\garrett1</td>\n",
       "      <td>752-555-0185</td>\n",
       "      <td>della0@adventure-works.com</td>\n",
       "    </tr>\n",
       "    <tr>\n",
       "      <th>58</th>\n",
       "      <td>93</td>\n",
       "      <td>Prashanth</td>\n",
       "      <td>Desai</td>\n",
       "      <td>Stationary Bikes and Stands</td>\n",
       "      <td>adventure-works\\jillian0</td>\n",
       "      <td>138-555-0156</td>\n",
       "      <td>prashanth0@adventure-works.com</td>\n",
       "    </tr>\n",
       "  </tbody>\n",
       "</table>\n",
       "</div>"
      ],
      "text/plain": [
       "    CustomerID  FirstName   LastName                   CompanyName  \\\n",
       "43          66  Alexander    Deborde            Neighborhood Store   \n",
       "47          75      Aidan    Delaney                  Paint Supply   \n",
       "50          78     Stefan   Delmarco               Preferred Bikes   \n",
       "54          84      Della  Demott Jr  Rewarding Activities Company   \n",
       "58          93  Prashanth      Desai   Stationary Bikes and Stands   \n",
       "\n",
       "                 SalesPerson         Phone                    EmailAddress  \n",
       "43  adventure-works\\garrett1  394-555-0176  alexander1@adventure-works.com  \n",
       "47  adventure-works\\jillian0  358-555-0188      aidan0@adventure-works.com  \n",
       "50    adventure-works\\linda3  819-555-0186     stefan0@adventure-works.com  \n",
       "54  adventure-works\\garrett1  752-555-0185      della0@adventure-works.com  \n",
       "58  adventure-works\\jillian0  138-555-0156  prashanth0@adventure-works.com  "
      ]
     },
     "execution_count": 11,
     "metadata": {},
     "output_type": "execute_result"
    }
   ],
   "source": [
    "print(\"Subset to first row only\")\n",
    "print(cust2.iloc[0])\n",
    "\n",
    "print(\"\\nGet first 5 rows matching condition\")\n",
    "cust2[cust2[\"LastName\"].str.startswith(\"D\")].head()"
   ]
  },
  {
   "attachments": {},
   "cell_type": "markdown",
   "metadata": {},
   "source": [
    "Both columns and rows can be subset at once using the loc attribute of the dataframe. This works like matrix notation in R: the first argument is used to reference rows, and the second is used to reference columns. Below, I look for any rows where the last name starts with \"D\", and I am pulling both the last name and the salesperson."
   ]
  },
  {
   "cell_type": "code",
   "execution_count": 12,
   "metadata": {
    "vscode": {
     "languageId": "r"
    }
   },
   "outputs": [
    {
     "data": {
      "text/html": [
       "<div>\n",
       "<style scoped>\n",
       "    .dataframe tbody tr th:only-of-type {\n",
       "        vertical-align: middle;\n",
       "    }\n",
       "\n",
       "    .dataframe tbody tr th {\n",
       "        vertical-align: top;\n",
       "    }\n",
       "\n",
       "    .dataframe thead th {\n",
       "        text-align: right;\n",
       "    }\n",
       "</style>\n",
       "<table border=\"1\" class=\"dataframe\">\n",
       "  <thead>\n",
       "    <tr style=\"text-align: right;\">\n",
       "      <th></th>\n",
       "      <th>SalesPerson</th>\n",
       "      <th>LastName</th>\n",
       "    </tr>\n",
       "  </thead>\n",
       "  <tbody>\n",
       "    <tr>\n",
       "      <th>43</th>\n",
       "      <td>adventure-works\\garrett1</td>\n",
       "      <td>Deborde</td>\n",
       "    </tr>\n",
       "    <tr>\n",
       "      <th>47</th>\n",
       "      <td>adventure-works\\jillian0</td>\n",
       "      <td>Delaney</td>\n",
       "    </tr>\n",
       "    <tr>\n",
       "      <th>50</th>\n",
       "      <td>adventure-works\\linda3</td>\n",
       "      <td>Delmarco</td>\n",
       "    </tr>\n",
       "    <tr>\n",
       "      <th>54</th>\n",
       "      <td>adventure-works\\garrett1</td>\n",
       "      <td>Demott Jr</td>\n",
       "    </tr>\n",
       "    <tr>\n",
       "      <th>58</th>\n",
       "      <td>adventure-works\\jillian0</td>\n",
       "      <td>Desai</td>\n",
       "    </tr>\n",
       "  </tbody>\n",
       "</table>\n",
       "</div>"
      ],
      "text/plain": [
       "                 SalesPerson   LastName\n",
       "43  adventure-works\\garrett1    Deborde\n",
       "47  adventure-works\\jillian0    Delaney\n",
       "50    adventure-works\\linda3   Delmarco\n",
       "54  adventure-works\\garrett1  Demott Jr\n",
       "58  adventure-works\\jillian0      Desai"
      ]
     },
     "execution_count": 12,
     "metadata": {},
     "output_type": "execute_result"
    }
   ],
   "source": [
    "# Subset by both rows and columns-- use pd.DataFrame.loc()\n",
    "cust2.loc[cust2[\"LastName\"].str.startswith(\"D\"),\n",
    "          [\"SalesPerson\", \"LastName\"]].head()"
   ]
  },
  {
   "cell_type": "code",
   "execution_count": null,
   "metadata": {
    "vscode": {
     "languageId": "r"
    }
   },
   "outputs": [],
   "source": []
  }
 ],
 "metadata": {
  "kernelspec": {
   "display_name": "R",
   "language": "R",
   "name": "ir"
  },
  "language_info": {
   "codemirror_mode": {
    "name": "ipython",
    "version": 3
   },
   "file_extension": ".py",
   "mimetype": "text/x-python",
   "name": "R",
   "nbconvert_exporter": "python",
   "pygments_lexer": "ipython3",
   "version": "3.10.8 (main, Nov 14 2022, 00:00:00) [GCC 12.2.1 20220819 (Red Hat 12.2.1-2)]"
  },
  "orig_nbformat": 4,
  "vscode": {
   "interpreter": {
    "hash": "e7370f93d1d0cde622a1f8e1c04877d8463912d04d973331ad4851f04de6915a"
   }
  }
 },
 "nbformat": 4,
 "nbformat_minor": 2
}
