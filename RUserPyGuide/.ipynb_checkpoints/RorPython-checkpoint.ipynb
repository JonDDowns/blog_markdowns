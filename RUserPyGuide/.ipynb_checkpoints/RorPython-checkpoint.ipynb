{
 "cells": [
  {
   "cell_type": "markdown",
   "metadata": {},
   "source": [
    "## R or Python- Why not Both?!\n",
    "\n",
    "In this series, I will be demonstrating a few common tasks in both R and Python. The goal is for me to convince you that the two languages can be quite similar in many cases and to learn some of the basics along the way. In this first post, I will throw my hat into the \"R vs. Python\" debate. Then I will stay as far away from it as humanly possible.\n",
    "\n",
    "### Introduction\n",
    "\n",
    "Coding has come a long way in my field in a short amount of time. As recently as 5 years ago, most analysis was done in SAS. R was for the most advanced of analysts. Later, R began growing rapidly as the prospect of job automation took hold. Now, we are hiring more and more Python users, and the \"R vs. Python\" debate has begun. Python users seem to strongly believe Python is superior to R. Similar [click-bait hot takes](https://www.linkedin.com/posts/alex-freberg_python-is-better-than-r-activity-6752637240578600960-a36V/?trk=public_profile_like_view&originalSubdomain=ke) abound on the web. *Side note: Click bait aside, Alex is a good follow*!\n",
    "\n",
    "But, who is right? Below, I will layout the arguments for each, then give my opinion on the debate.\n",
    "\n",
    "#### The Python argument\n",
    "\n",
    "The Python > R argument goes something like this:\n",
    "\n",
    "* Python is the [most popular coding language](https://pypl.github.io/PYPL.html)\n",
    "* R is good for charts, modeling, and analysis, but so is Python\n",
    "* Python is general purpose and can be used for more than just analysis\n",
    "\n",
    "Setting aside [methodological issues](https://codehawke.com/blogs/why_the_tiobe_index_can_t_be_trusted.html) with coding popularity indexes, Python is the lingua franca of coding. [Google, Reddit, and Youtube](https://codeinstitute.net/global/blog/7-popular-software-programs-written-in-python/) are just 3 examples of major services that depend heavily on Python. While both [Python](https://flask.palletsprojects.com/en/2.2.x/) and [R](https://shiny.rstudio.com/) have their own dashboard solutions, Python has better support for things like [webite development](https://www.djangoproject.com/). The Python community is massive, and this size means that there are a lot of tools available.\n",
    "\n",
    "#### The R argument\n",
    "\n",
    "The R side of the debate revolves around accuracy and validity of methods. R packages, especially ones used for modeling, are typically maintained by a core group of statisticians who often turn their novel research methods into R packages for anyone to use.\n",
    "\n",
    "* Want to do a survival analysis? Faculty from the [Mayo Clinic](https://cran.r-project.org/web/packages/survival/index.html) have you covered. \n",
    "* Want to run Generalized Additive Models? The mgcv package author literally [wrote the book](https://www.taylorfrancis.com/books/mono/10.1201/9781315370279/generalized-additive-models-simon-wood). \n",
    "* Want to do use cutting edge network models to simulate epidemics? The [EpiModel](https://cran.r-project.org/web/packages/EpiModel/index.html) team has you covered. \n",
    "* There is a [Journal of Statistical Software](https://www.jstatsoft.org/index) where many statistical packages are introduced and explained.\n",
    "\n",
    "Simply put, sometimes it's better to have a dedicated expert who can be relied on rather than a massively community-driven project. There's only so many research statisticians out there, and they largely use R. Meanwhile, there have been instances of [Python modules incorrectly implementing](https://scikit-learn-general.narkive.com/CcCsycWg/bootstrap-depracation-warning) statistical concepts.\n",
    "\n",
    "#### The Verdict: Debate Less, Code More\n",
    "\n",
    "So which should you learn? Both! Or, more accurately, prioritize learning the one that makes the most sense in your current situation and pick up the other as you become more skilled. Do you need to read in data, transform it, and use it to make insights? Both languges have you covered! Doing simple statistical tests or fitting a linear model? Both R and Python are excellent.\n",
    "\n",
    "The way I see it, the R vs. Python debate is largely counterproductive because it places the focus on the language instead of personal development. People will happily spend hours researching how to tackle a problem in their preferred language, but are quick to say their non-preferred language \"is just bad at this\". Almost always, it turns out that the R and Python solutions are quite similar. Like many things in life, data analysis is more about the skill of the person than the tools they use.\n",
    "\n",
    "I am reminded of a story from my own life. Early in the COVID-19 pandemic, my wife and I got really into cycling. After consistent improvement early on, I hit a plateau and I wanted to upgrade my mountain bike for a $3,000 road bike. The road bike was perfectly engineered for the task: 11 pounds lighter with thinner tires to reduce friction. But, I soon realized there was a more cost-efficient way to get the same result: riding the bike more often and cutting back on the post-ride beers. I didn't end up buying the bike, and you shouldn't listen to people whose first question is \"why didn't you code it in X\"?\n",
    "\n",
    "Did my anecdotes and folksy wisdom not convince you? Fine, let me show you!\n",
    "\n",
    "### Common tasks in R and Python\n",
    "\n",
    "Below, I will show just how similar R and Python can be by covering some common use cases. In cases like package installations, the output is quite long and not useful for our purposes. I will edit the output in such cases. At one point, I will connect to a SQL server hosted privately on my cloud account. If you would like to stand up your own version, Microsoft has a tutorial [here](https://learn.microsoft.com/en-us/sql/samples/adventureworks-install-configure?view=sql-server-ver16&tabs=ssms#deploy-to-azure-sql-database).\n",
    "\n",
    "#### Modules and Packages: Install, Load, Use\n",
    "\n",
    "Really, there are three notable differences here:\n",
    "\n",
    "1. Python calls them \"Modules\", and R calls them \"Packages\"\n",
    "2. R packages are installed in an R session while Python modules are installed from the shell\n",
    "3. As long as an R package has been installed, it can be called using the pkg::function() syntax. Python modules must always be loaded before use.\n",
    "\n",
    "##### Python\n",
    "\n",
    "In Python, pip is the base package installer, but other options (like [Anaconda](https://www.anaconda.com/)) exist. In either case, the syntax in similar:\n"
   ]
  },
  {
   "cell_type": "code",
   "execution_count": 1,
   "metadata": {
    "vscode": {
     "languageId": "shellscript"
    }
   },
   "outputs": [
    {
     "name": "stdout",
     "output_type": "stream",
     "text": [
      "Defaulting to user installation because normal site-packages is not writeable\n",
      "Requirement already satisfied: numpy in /home/jondowns/.local/lib/python3.10/site-packages (1.23.5)\n",
      "Note: you may need to restart the kernel to use updated packages.\n"
     ]
    }
   ],
   "source": [
    "pip install numpy"
   ]
  },
  {
   "cell_type": "code",
   "execution_count": 3,
   "metadata": {},
   "outputs": [],
   "source": [
    "# Modules need to be explicitly loaded\n",
    "import sqlalchemy as sa\n",
    "import pandas as pd # Note the \"pd\" ref here\n",
    "import os\n",
    "import re\n",
    "import glob\n",
    "\n",
    "# You can also import specific subsets of a package\n",
    "from urllib import request"
   ]
  },
  {
   "cell_type": "markdown",
   "metadata": {},
   "source": [
    "Python modules tend to have lots of sub-modules. For example, urllib has many modules, but in data science the \"request\" module is the most commonly used. In such cases, you may want to only import the specific part of the module that you need for the task at hand. \n",
    "\n",
    "##### R\n",
    "\n",
    "As previously mentioned, R packages are installed within a session. You may be asked to select a \"mirror\" the first time you install a package. Just use the cloud mirror."
   ]
  },
  {
   "cell_type": "code",
   "execution_count": null,
   "metadata": {},
   "outputs": [],
   "source": [
    "install.packages(\"jsonlite\")"
   ]
  }
 ],
 "metadata": {
  "kernelspec": {
   "display_name": "Python 3 (ipykernel)",
   "language": "python",
   "name": "python3"
  },
  "language_info": {
   "codemirror_mode": {
    "name": "ipython",
    "version": 3
   },
   "file_extension": ".py",
   "mimetype": "text/x-python",
   "name": "python",
   "nbconvert_exporter": "python",
   "pygments_lexer": "ipython3",
   "version": "3.10.8"
  },
  "vscode": {
   "interpreter": {
    "hash": "e7370f93d1d0cde622a1f8e1c04877d8463912d04d973331ad4851f04de6915a"
   }
  }
 },
 "nbformat": 4,
 "nbformat_minor": 2
}
