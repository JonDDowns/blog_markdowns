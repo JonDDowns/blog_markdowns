{
 "cells": [
  {
   "cell_type": "markdown",
   "id": "c587040f",
   "metadata": {},
   "source": [
    "#### Install Packages\n",
    "\n",
    "##### R\n",
    "\n",
    "As previously mentioned, R packages are installed within a session. You may be asked to select a \"mirror\" the first time you install a package. Just use the cloud mirror. Any packages that are installed can be loaded with the library command. Note that the quotes are no longer needed after a package has been installed."
   ]
  },
  {
   "cell_type": "code",
   "execution_count": 3,
   "id": "d68a3284",
   "metadata": {
    "vscode": {
     "languageId": "plaintext"
    }
   },
   "outputs": [],
   "source": [
    "# Install packages in R using install.packages()\n",
    "# install.packages(\"jsonlite\")\n",
    "\n",
    "# Load packages with the \"library\" command\n",
    "library(jsonlite)\n",
    "library(tidyverse)\n",
    "library(odbc)\n",
    "library(DBI)"
   ]
  },
  {
   "cell_type": "markdown",
   "id": "261c82d0",
   "metadata": {},
   "source": [
    "Make note of the \"conflicts\" section, we will address that shortly. \n",
    "\n",
    "The tidyverse is a bit of a special case: the tidyverse is a set of packages designed to modernize base R, both for \n",
    "performance and to be more intuitive. So when you load the tidyverse package, you're actually loading a universe of packages (hence the name).\n",
    "\n",
    "After a package is loaded, any functions from that package can be called. R is structured a little differently than Python here. In the Python example above, we had to reference the package pandas (pd) to call the data.frame command. In R, loading the library is sufficient:"
   ]
  },
  {
   "cell_type": "code",
   "execution_count": null,
   "id": "aec4c97f",
   "metadata": {},
   "outputs": [],
   "source": [
    "# Use mutate from one of the packages in the tidyverse\n",
    "mutate(data.frame(nums = 1:10), new = cumsum(nums))"
   ]
  },
  {
   "cell_type": "markdown",
   "id": "c8381ac0",
   "metadata": {},
   "source": [
    "If you DID want to be explicit, you could use the package::fuction() notation. It can be used when multiple libraries use the same function name. By default, R will choose the function that was loaded last when 2+ functions have the same name. Many times, the package author INTENDED to overwrite a base R function, so in practice function masking is not a big problem. Python handles the same problem by forcing you to always be explicit. I must admit, I like the Python philosophy more here."
   ]
  },
  {
   "cell_type": "code",
   "execution_count": 4,
   "id": "c9c26fb9",
   "metadata": {},
   "outputs": [
    {
     "data": {
      "text/html": [
       "<table class=\"dataframe\">\n",
       "<caption>A data.frame: 5 × 2</caption>\n",
       "<thead>\n",
       "\t<tr><th scope=col>nums</th><th scope=col>new</th></tr>\n",
       "\t<tr><th scope=col>&lt;int&gt;</th><th scope=col>&lt;int&gt;</th></tr>\n",
       "</thead>\n",
       "<tbody>\n",
       "\t<tr><td>1</td><td> 1</td></tr>\n",
       "\t<tr><td>2</td><td> 3</td></tr>\n",
       "\t<tr><td>3</td><td> 6</td></tr>\n",
       "\t<tr><td>4</td><td>10</td></tr>\n",
       "\t<tr><td>5</td><td>15</td></tr>\n",
       "</tbody>\n",
       "</table>\n"
      ],
      "text/latex": [
       "A data.frame: 5 × 2\n",
       "\\begin{tabular}{ll}\n",
       " nums & new\\\\\n",
       " <int> & <int>\\\\\n",
       "\\hline\n",
       "\t 1 &  1\\\\\n",
       "\t 2 &  3\\\\\n",
       "\t 3 &  6\\\\\n",
       "\t 4 & 10\\\\\n",
       "\t 5 & 15\\\\\n",
       "\\end{tabular}\n"
      ],
      "text/markdown": [
       "\n",
       "A data.frame: 5 × 2\n",
       "\n",
       "| nums &lt;int&gt; | new &lt;int&gt; |\n",
       "|---|---|\n",
       "| 1 |  1 |\n",
       "| 2 |  3 |\n",
       "| 3 |  6 |\n",
       "| 4 | 10 |\n",
       "| 5 | 15 |\n",
       "\n"
      ],
      "text/plain": [
       "  nums new\n",
       "1 1     1 \n",
       "2 2     3 \n",
       "3 3     6 \n",
       "4 4    10 \n",
       "5 5    15 "
      ]
     },
     "metadata": {},
     "output_type": "display_data"
    }
   ],
   "source": [
    "# As long as an R package is installed, you can access its functions\n",
    "# like this:\n",
    "dplyr::mutate(data.frame(nums = 1:5), new = cumsum(nums))"
   ]
  },
  {
   "cell_type": "markdown",
   "id": "5027590b",
   "metadata": {},
   "source": [
    "#### Explore the filesystem and access system commands\n",
    "\n",
    "##### R\n",
    "\n",
    "In R, the syntax is remarkably similar:"
   ]
  },
  {
   "cell_type": "code",
   "execution_count": 9,
   "id": "1c76f184",
   "metadata": {},
   "outputs": [
    {
     "data": {
      "text/html": [
       "'/home/jondowns/Documents/blog_markdowns/RUserPyGuide'"
      ],
      "text/latex": [
       "'/home/jondowns/Documents/blog\\_markdowns/RUserPyGuide'"
      ],
      "text/markdown": [
       "'/home/jondowns/Documents/blog_markdowns/RUserPyGuide'"
      ],
      "text/plain": [
       "[1] \"/home/jondowns/Documents/blog_markdowns/RUserPyGuide\""
      ]
     },
     "metadata": {},
     "output_type": "display_data"
    },
    {
     "data": {
      "text/html": [
       "<style>\n",
       ".list-inline {list-style: none; margin:0; padding: 0}\n",
       ".list-inline>li {display: inline-block}\n",
       ".list-inline>li:not(:last-child)::after {content: \"\\00b7\"; padding: 0 .5ex}\n",
       "</style>\n",
       "<ol class=list-inline><li>'basics.py'</li><li>'basics.r'</li><li>'R.ipynb'</li><li>'TextAndPy.ipynb'</li></ol>\n"
      ],
      "text/latex": [
       "\\begin{enumerate*}\n",
       "\\item 'basics.py'\n",
       "\\item 'basics.r'\n",
       "\\item 'R.ipynb'\n",
       "\\item 'TextAndPy.ipynb'\n",
       "\\end{enumerate*}\n"
      ],
      "text/markdown": [
       "1. 'basics.py'\n",
       "2. 'basics.r'\n",
       "3. 'R.ipynb'\n",
       "4. 'TextAndPy.ipynb'\n",
       "\n",
       "\n"
      ],
      "text/plain": [
       "[1] \"basics.py\"       \"basics.r\"        \"R.ipynb\"         \"TextAndPy.ipynb\""
      ]
     },
     "metadata": {},
     "output_type": "display_data"
    },
    {
     "data": {
      "text/html": [
       "<style>\n",
       ".list-inline {list-style: none; margin:0; padding: 0}\n",
       ".list-inline>li {display: inline-block}\n",
       ".list-inline>li:not(:last-child)::after {content: \"\\00b7\"; padding: 0 .5ex}\n",
       "</style>\n",
       "<ol class=list-inline><li>'addToWebsite.sql'</li><li>'blog_markdowns.Rproj'</li><li>'gamesToWin'</li><li>'getPRISMData'</li><li>'isPalindrome'</li><li>'makeNbaDb'</li><li>'RUserPyGuide'</li></ol>\n"
      ],
      "text/latex": [
       "\\begin{enumerate*}\n",
       "\\item 'addToWebsite.sql'\n",
       "\\item 'blog\\_markdowns.Rproj'\n",
       "\\item 'gamesToWin'\n",
       "\\item 'getPRISMData'\n",
       "\\item 'isPalindrome'\n",
       "\\item 'makeNbaDb'\n",
       "\\item 'RUserPyGuide'\n",
       "\\end{enumerate*}\n"
      ],
      "text/markdown": [
       "1. 'addToWebsite.sql'\n",
       "2. 'blog_markdowns.Rproj'\n",
       "3. 'gamesToWin'\n",
       "4. 'getPRISMData'\n",
       "5. 'isPalindrome'\n",
       "6. 'makeNbaDb'\n",
       "7. 'RUserPyGuide'\n",
       "\n",
       "\n"
      ],
      "text/plain": [
       "[1] \"addToWebsite.sql\"     \"blog_markdowns.Rproj\" \"gamesToWin\"          \n",
       "[4] \"getPRISMData\"         \"isPalindrome\"         \"makeNbaDb\"           \n",
       "[7] \"RUserPyGuide\"        "
      ]
     },
     "metadata": {},
     "output_type": "display_data"
    },
    {
     "data": {
      "text/html": [
       "<style>\n",
       ".list-inline {list-style: none; margin:0; padding: 0}\n",
       ".list-inline>li {display: inline-block}\n",
       ".list-inline>li:not(:last-child)::after {content: \"\\00b7\"; padding: 0 .5ex}\n",
       "</style>\n",
       "<ol class=list-inline><li>'R.ipynb'</li><li>'TextAndPy.ipynb'</li></ol>\n"
      ],
      "text/latex": [
       "\\begin{enumerate*}\n",
       "\\item 'R.ipynb'\n",
       "\\item 'TextAndPy.ipynb'\n",
       "\\end{enumerate*}\n"
      ],
      "text/markdown": [
       "1. 'R.ipynb'\n",
       "2. 'TextAndPy.ipynb'\n",
       "\n",
       "\n"
      ],
      "text/plain": [
       "[1] \"R.ipynb\"         \"TextAndPy.ipynb\""
      ]
     },
     "metadata": {},
     "output_type": "display_data"
    },
    {
     "data": {
      "text/html": [
       "'/home/jondowns'"
      ],
      "text/latex": [
       "'/home/jondowns'"
      ],
      "text/markdown": [
       "'/home/jondowns'"
      ],
      "text/plain": [
       "[1] \"/home/jondowns\""
      ]
     },
     "metadata": {},
     "output_type": "display_data"
    }
   ],
   "source": [
    "# Note that, if you do not assign an object, it is printed (not saved)\n",
    "getwd() # Print working directory\n",
    "list.files(\".\") # List files in working directory\n",
    "list.files(\"..\") # List files in parent of working directory\n",
    "\n",
    "# Look for specific files\n",
    "list.files(\".\", pattern = \"*.ipynb\") # Use regex to search\n",
    "\n",
    "# Access environment variables\n",
    "Sys.getenv(\"HOME\")"
   ]
  },
  {
   "cell_type": "markdown",
   "id": "4778fd9e",
   "metadata": {},
   "source": [
    "#### Work with Databases\n",
    "\n",
    "##### R\n",
    "\n",
    "Again, the solutions are quite similar. In fact, it could be even MORE similar: I could write the connection string as a single string as we did in Python. However, common practice in R is to use the arguments provided in the dbConnect function."
   ]
  },
  {
   "cell_type": "code",
   "execution_count": 9,
   "id": "6ef55170",
   "metadata": {},
   "outputs": [
    {
     "data": {
      "text/html": [
       "<style>\n",
       ".list-inline {list-style: none; margin:0; padding: 0}\n",
       ".list-inline>li {display: inline-block}\n",
       ".list-inline>li:not(:last-child)::after {content: \"\\00b7\"; padding: 0 .5ex}\n",
       "</style>\n",
       "<ol class=list-inline><li>'CustomerID'</li><li>'Title'</li><li>'Suffix'</li><li>'CompanyName'</li><li>'SalesPerson'</li><li>'EmailAddress'</li><li>'PasswordHash'</li><li>'PasswordSalt'</li><li>'rowguid'</li><li>'ModifiedDate'</li></ol>\n"
      ],
      "text/latex": [
       "\\begin{enumerate*}\n",
       "\\item 'CustomerID'\n",
       "\\item 'Title'\n",
       "\\item 'Suffix'\n",
       "\\item 'CompanyName'\n",
       "\\item 'SalesPerson'\n",
       "\\item 'EmailAddress'\n",
       "\\item 'PasswordHash'\n",
       "\\item 'PasswordSalt'\n",
       "\\item 'rowguid'\n",
       "\\item 'ModifiedDate'\n",
       "\\end{enumerate*}\n"
      ],
      "text/markdown": [
       "1. 'CustomerID'\n",
       "2. 'Title'\n",
       "3. 'Suffix'\n",
       "4. 'CompanyName'\n",
       "5. 'SalesPerson'\n",
       "6. 'EmailAddress'\n",
       "7. 'PasswordHash'\n",
       "8. 'PasswordSalt'\n",
       "9. 'rowguid'\n",
       "10. 'ModifiedDate'\n",
       "\n",
       "\n"
      ],
      "text/plain": [
       " [1] \"CustomerID\"   \"Title\"        \"Suffix\"       \"CompanyName\"  \"SalesPerson\" \n",
       " [6] \"EmailAddress\" \"PasswordHash\" \"PasswordSalt\" \"rowguid\"      \"ModifiedDate\""
      ]
     },
     "metadata": {},
     "output_type": "display_data"
    }
   ],
   "source": [
    "cnxn <- DBI::dbConnect(\n",
    "    drv = odbc::odbc(),\n",
    "    Driver = \"{ODBC Driver 18 for SQL Server}\",\n",
    "    server = \"jondowns.database.windows.net,1433\",\n",
    "    database = \"adventureworks\",\n",
    "    uid = \"readAdvWorks\",\n",
    "    pwd = \"Plznohackme!123\") # Reminder: don't do this\n",
    "\n",
    "# In addition to the SQL information schema tables, DBI has some convenience functions\n",
    "dbListFields(cnxn, \"Customer\")"
   ]
  },
  {
   "cell_type": "markdown",
   "id": "d11c89d7",
   "metadata": {},
   "source": [
    "We will close by running the two same SQL queries as in the Python section. The main differnece between Python and R here is that Python lists the connection as the SECOND argument, and R lists it as the first. Radical, I know."
   ]
  },
  {
   "cell_type": "code",
   "execution_count": 11,
   "id": "8948bad7",
   "metadata": {},
   "outputs": [],
   "source": [
    "# Query database\n",
    "cust <- DBI::dbGetQuery(cnxn, \"SELECT * FROM SalesLt.Customer\")\n",
    "custAdd <- DBI::dbGetQuery(\n",
    "    cnxn,\n",
    "    \"SELECT a.CustomerID\n",
    "    , a.AddressType\n",
    "    , b.AddressLine1\n",
    "    , b.AddressLine2\n",
    "    , b.City\n",
    "    , b.StateProvince\n",
    "    , b.CountryRegion\n",
    "    , b.PostalCode\n",
    "    , b.ModifiedDate\n",
    "    FROM SalesLt.CustomerAddress AS a\n",
    "    LEFT JOIN SalesLT.Address AS b ON a.AddressID = b.AddressID\")"
   ]
  },
  {
   "cell_type": "markdown",
   "id": "24b56b33",
   "metadata": {},
   "source": [
    "#### Initial Data Exploration\n",
    "\n",
    "##### R\n",
    "\n",
    "It is time to note another place where R and Python differ slightly in syntax. R tends to prefer the use of functions, while Python prefers attributes. In R, anything can be sent to a function, then the function decides whether it has the proper method(s) to handle that object. In Python, the preference is to store things as attributes of the object itself. I think this is somewhat a difference in philosophy: Python is general purpose, so it prioritizes predictability by forcing users to be explicit. Since R has a more defined focus, it places a higher priority on general purpose functions that can be used across a variety of objects. For example, most functions that work on dataframes also work on matrices.\n",
    "\n",
    "Above, when we listed the columns, we used the DataFrame.columns attribute. In R, we use the colnames function that can be called on basically anything. It's the function's job to decide whether it can actually work on that object.\n",
    "\n",
    "All that being said, it still seems pretty intuitive that this R code is doing the same as the Python code above:\n",
    "\n"
   ]
  },
  {
   "cell_type": "code",
   "execution_count": 15,
   "id": "ff3bcf43",
   "metadata": {},
   "outputs": [
    {
     "data": {
      "text/html": [
       "<style>\n",
       ".list-inline {list-style: none; margin:0; padding: 0}\n",
       ".list-inline>li {display: inline-block}\n",
       ".list-inline>li:not(:last-child)::after {content: \"\\00b7\"; padding: 0 .5ex}\n",
       "</style>\n",
       "<ol class=list-inline><li>847</li><li>15</li></ol>\n"
      ],
      "text/latex": [
       "\\begin{enumerate*}\n",
       "\\item 847\n",
       "\\item 15\n",
       "\\end{enumerate*}\n"
      ],
      "text/markdown": [
       "1. 847\n",
       "2. 15\n",
       "\n",
       "\n"
      ],
      "text/plain": [
       "[1] 847  15"
      ]
     },
     "metadata": {},
     "output_type": "display_data"
    },
    {
     "data": {
      "text/html": [
       "<style>\n",
       ".list-inline {list-style: none; margin:0; padding: 0}\n",
       ".list-inline>li {display: inline-block}\n",
       ".list-inline>li:not(:last-child)::after {content: \"\\00b7\"; padding: 0 .5ex}\n",
       "</style>\n",
       "<ol class=list-inline><li>'CustomerID'</li><li>'NameStyle'</li><li>'Title'</li><li>'FirstName'</li><li>'MiddleName'</li><li>'LastName'</li><li>'Suffix'</li><li>'CompanyName'</li><li>'SalesPerson'</li><li>'EmailAddress'</li><li>'Phone'</li><li>'PasswordHash'</li><li>'PasswordSalt'</li><li>'rowguid'</li><li>'ModifiedDate'</li></ol>\n"
      ],
      "text/latex": [
       "\\begin{enumerate*}\n",
       "\\item 'CustomerID'\n",
       "\\item 'NameStyle'\n",
       "\\item 'Title'\n",
       "\\item 'FirstName'\n",
       "\\item 'MiddleName'\n",
       "\\item 'LastName'\n",
       "\\item 'Suffix'\n",
       "\\item 'CompanyName'\n",
       "\\item 'SalesPerson'\n",
       "\\item 'EmailAddress'\n",
       "\\item 'Phone'\n",
       "\\item 'PasswordHash'\n",
       "\\item 'PasswordSalt'\n",
       "\\item 'rowguid'\n",
       "\\item 'ModifiedDate'\n",
       "\\end{enumerate*}\n"
      ],
      "text/markdown": [
       "1. 'CustomerID'\n",
       "2. 'NameStyle'\n",
       "3. 'Title'\n",
       "4. 'FirstName'\n",
       "5. 'MiddleName'\n",
       "6. 'LastName'\n",
       "7. 'Suffix'\n",
       "8. 'CompanyName'\n",
       "9. 'SalesPerson'\n",
       "10. 'EmailAddress'\n",
       "11. 'Phone'\n",
       "12. 'PasswordHash'\n",
       "13. 'PasswordSalt'\n",
       "14. 'rowguid'\n",
       "15. 'ModifiedDate'\n",
       "\n",
       "\n"
      ],
      "text/plain": [
       " [1] \"CustomerID\"   \"NameStyle\"    \"Title\"        \"FirstName\"    \"MiddleName\"  \n",
       " [6] \"LastName\"     \"Suffix\"       \"CompanyName\"  \"SalesPerson\"  \"EmailAddress\"\n",
       "[11] \"Phone\"        \"PasswordHash\" \"PasswordSalt\" \"rowguid\"      \"ModifiedDate\""
      ]
     },
     "metadata": {},
     "output_type": "display_data"
    },
    {
     "data": {
      "text/html": [
       "<style>\n",
       ".list-inline {list-style: none; margin:0; padding: 0}\n",
       ".list-inline>li {display: inline-block}\n",
       ".list-inline>li:not(:last-child)::after {content: \"\\00b7\"; padding: 0 .5ex}\n",
       "</style>\n",
       "<ol class=list-inline><li>'1'</li><li>'2'</li><li>'3'</li><li>'4'</li><li>'5'</li></ol>\n"
      ],
      "text/latex": [
       "\\begin{enumerate*}\n",
       "\\item '1'\n",
       "\\item '2'\n",
       "\\item '3'\n",
       "\\item '4'\n",
       "\\item '5'\n",
       "\\end{enumerate*}\n"
      ],
      "text/markdown": [
       "1. '1'\n",
       "2. '2'\n",
       "3. '3'\n",
       "4. '4'\n",
       "5. '5'\n",
       "\n",
       "\n"
      ],
      "text/plain": [
       "[1] \"1\" \"2\" \"3\" \"4\" \"5\""
      ]
     },
     "metadata": {},
     "output_type": "display_data"
    },
    {
     "name": "stdout",
     "output_type": "stream",
     "text": [
      "[1] \"Data type of Customer ID:\"\n"
     ]
    },
    {
     "data": {
      "text/html": [
       "'integer'"
      ],
      "text/latex": [
       "'integer'"
      ],
      "text/markdown": [
       "'integer'"
      ],
      "text/plain": [
       "[1] \"integer\""
      ]
     },
     "metadata": {},
     "output_type": "display_data"
    },
    {
     "name": "stdout",
     "output_type": "stream",
     "text": [
      "[1] \"Data type of Last Name:\"\n"
     ]
    },
    {
     "data": {
      "text/html": [
       "'character'"
      ],
      "text/latex": [
       "'character'"
      ],
      "text/markdown": [
       "'character'"
      ],
      "text/plain": [
       "[1] \"character\""
      ]
     },
     "metadata": {},
     "output_type": "display_data"
    }
   ],
   "source": [
    "# Use dim, nrow, and ncol to get rows/columns, and both\n",
    "dim(cust) # Rows x columns\n",
    "\n",
    "# Print out row and column names\n",
    "colnames(cust) # Most common\n",
    "rownames(cust)[1:5] # Less common\n",
    "\n",
    "print(\"Data type of Customer ID:\")\n",
    "class(cust$CustomerID)\n",
    "\n",
    "print(\"Data type of Last Name:\")\n",
    "class(cust$LastName)\n"
   ]
  },
  {
   "cell_type": "markdown",
   "id": "5a974ec5",
   "metadata": {},
   "source": [
    "Finally, a frequency table is available with the very aptly named \"table\" function."
   ]
  },
  {
   "cell_type": "code",
   "execution_count": 16,
   "id": "d1dc6dc3",
   "metadata": {},
   "outputs": [
    {
     "data": {
      "text/plain": [
       "\n",
       "  adventure-works\\\\david8 adventure-works\\\\garrett1     adventure-works\\\\jae0 \n",
       "                       73                        78                        78 \n",
       "adventure-works\\\\jillian0    adventure-works\\\\josé1   adventure-works\\\\linda3 \n",
       "                      148                       142                        71 \n",
       "adventure-works\\\\michael9  adventure-works\\\\pamela0     adventure-works\\\\shu0 \n",
       "                       32                        74                       151 "
      ]
     },
     "metadata": {},
     "output_type": "display_data"
    }
   ],
   "source": [
    "table(cust$SalesPerson)"
   ]
  },
  {
   "cell_type": "code",
   "execution_count": null,
   "id": "8fec8dc6",
   "metadata": {},
   "outputs": [],
   "source": []
  }
 ],
 "metadata": {
  "kernelspec": {
   "display_name": "R",
   "language": "R",
   "name": "ir"
  },
  "language_info": {
   "codemirror_mode": "r",
   "file_extension": ".r",
   "mimetype": "text/x-r-source",
   "name": "R",
   "pygments_lexer": "r",
   "version": "4.1.3"
  }
 },
 "nbformat": 4,
 "nbformat_minor": 5
}
